{
 "cells": [
  {
   "cell_type": "code",
   "execution_count": null,
   "metadata": {},
   "outputs": [],
   "source": [
    "import json\n",
    "import requests\n",
    "from tqdm.notebook import tqdm\n",
    "\n",
    "import rdflib\n",
    "from rdflib import Namespace\n",
    "from rdflib.namespace import DC, DCTERMS, DOAP, FOAF, SKOS, OWL, RDF, RDFS, VOID, XMLNS, XSD"
   ]
  },
  {
   "cell_type": "code",
   "execution_count": 9,
   "metadata": {},
   "outputs": [],
   "source": [
    "labels_path = r\"C:\\Users\\Simon\\Desktop\\SAFRANExplorer\\labelgraph\\Labels\"\n",
    "graph_path = r\"C:\\Users\\Simon\\Desktop\\SAFRANExplorer\\labelgraph\\Graphs\"\n",
    "edge_path = r\"C:\\Users\\Simon\\Downloads\\HQ_DIR\\HQ_DIR\\graph_files\\edges.csv\""
   ]
  },
  {
   "cell_type": "code",
   "execution_count": 50,
   "metadata": {},
   "outputs": [],
   "source": [
    "def add_node(node):\n",
    "    if node.startswith(\"NCBIGENE:\"):\n",
    "        ncbigenes.add(node[len(\"NCBIGENE:\"):])\n",
    "    elif node.startswith(\"PUBCHEM.COMPOUND:\"):\n",
    "        pubchemcompounds.add(node[len(\"PUBCHEM.COMPOUND:\"):])\n",
    "    elif node.startswith(\"CL:\"):\n",
    "        clss.add(node)\n",
    "    elif node.startswith(\"GO:\"):\n",
    "        gos.add(node)\n",
    "    elif node.startswith(\"UBERON:\"):\n",
    "        uberons.add(node)\n",
    "    elif node.startswith(\"DOID:\"):\n",
    "        doids.add(node)\n",
    "    elif node.startswith(\"HP:\"):\n",
    "        hps.add(node)\n",
    "    elif node.startswith(\"KEGG:\"):\n",
    "        keggs.add(node)\n",
    "    elif node.startswith(\"REACTOME:\"):\n",
    "        reactomes.add(node)\n",
    "        \n",
    "def read_nodes(path):\n",
    "    content = None\n",
    "    with open(path) as f:\n",
    "        content = f.readlines()\n",
    "    content = [x.strip() for x in content]\n",
    "\n",
    "    for line in content:\n",
    "        head,rel,tail,_,_ = line.split(\"\\t\")\n",
    "        add_node(head)\n",
    "        add_node(tail)\n",
    "        \n",
    "def divide_chunks(l, n):\n",
    "    l = list(l)\n",
    "    for i in range(0, len(l), n): \n",
    "        yield l[i:i + n]"
   ]
  },
  {
   "cell_type": "markdown",
   "metadata": {},
   "source": [
    "## Read nodes from graph"
   ]
  },
  {
   "cell_type": "code",
   "execution_count": 11,
   "metadata": {},
   "outputs": [],
   "source": [
    "ncbigenes = set()\n",
    "clss = set()\n",
    "uberons = set()\n",
    "gos = set()\n",
    "doids = set()\n",
    "hps = set()\n",
    "pubchemcompounds = set()\n",
    "keggs = set()\n",
    "reactomes = set()\n",
    "\n",
    "read_nodes(edge_path)"
   ]
  },
  {
   "cell_type": "markdown",
   "metadata": {},
   "source": [
    "# APIs"
   ]
  },
  {
   "cell_type": "markdown",
   "metadata": {},
   "source": [
    "## NCBIGENE, PUBCHEM.COMPOUND"
   ]
  },
  {
   "cell_type": "code",
   "execution_count": 88,
   "metadata": {},
   "outputs": [],
   "source": [
    "def download_ncbi(ontology, ids, step_size):\n",
    "    results = dict()\n",
    "\n",
    "    count = 0\n",
    "    ids_str = \"\"\n",
    "    for x in tqdm(ids):\n",
    "        ids_str = ids_str + str(x) + \",\"\n",
    "        count = count + 1\n",
    "        if count >= step_size:\n",
    "            ids_str = ids_str[0:-1]\n",
    "            response = requests.get(f\"https://eutils.ncbi.nlm.nih.gov/entrez/eutils/efetch.fcgi?db={ontology}&rettype=docsum&retmode=json&id={ids_str}\")\n",
    "            response_json = response.json()\n",
    "            for key,value in response_json[\"result\"].items():\n",
    "                if key != 'uids':\n",
    "                    results[key] = value\n",
    "            ids_str = \"\"\n",
    "            count = 0\n",
    "\n",
    "    if count > 0:\n",
    "        response = requests.get(f\"https://eutils.ncbi.nlm.nih.gov/entrez/eutils/efetch.fcgi?db={ontology}&rettype=docsum&retmode=json&id={ids_str}\")\n",
    "        response_json = response.json()\n",
    "        for key,value in response_json[\"result\"].items():\n",
    "                if key != 'uids':\n",
    "                    results[key] = value\n",
    "\n",
    "    file = open(f\"{root}/{ontology}.txt\", \"w\")\n",
    "    json.dump(results, file)\n",
    "    file.close()"
   ]
  },
  {
   "cell_type": "code",
   "execution_count": null,
   "metadata": {},
   "outputs": [],
   "source": [
    "\"\"\"\n",
    "ncbigene, ontology = \"gene\", step_size = 500\n",
    "pubchemcompound, ontology = \"pccompound\", step_size = 200\n",
    "https://eutils.ncbi.nlm.nih.gov/entrez/eutils/efetch.fcgi?db=gene&id=2&rettype=docsum&retmode=json\n",
    "https://eutils.ncbi.nlm.nih.gov/entrez/eutils/efetch.fcgi?db=pccompound&id=2&rettype=docsum&retmode=json\n",
    "\"\"\"\n",
    "\n",
    "ontology = \"pccompound\"\n",
    "ids = pubchemcompounds\n",
    "step_size = 200\n",
    "download_ncbi(ontology, ids, step_size)\n",
    "\n",
    "ontology = \"gene\"\n",
    "ids = ncbigenes\n",
    "step_size = 500\n",
    "download_ncbi(ontology, ids, step_size)"
   ]
  },
  {
   "cell_type": "markdown",
   "metadata": {},
   "source": [
    "## UBERON, HP, GO, DOID, CL"
   ]
  },
  {
   "cell_type": "code",
   "execution_count": 59,
   "metadata": {},
   "outputs": [
    {
     "name": "stdout",
     "output_type": "stream",
     "text": [
      "1\n",
      "2\n",
      "3\n",
      "4\n",
      "5\n",
      "6\n",
      "7\n",
      "8\n",
      "9\n",
      "10\n",
      "11\n",
      "12\n",
      "13\n",
      "14\n",
      "15\n",
      "16\n",
      "17\n",
      "18\n",
      "19\n",
      "20\n",
      "21\n",
      "22\n",
      "23\n",
      "24\n",
      "25\n",
      "26\n",
      "27\n",
      "28\n",
      "29\n",
      "30\n",
      "31\n",
      "32\n",
      "33\n",
      "34\n",
      "35\n",
      "36\n",
      "37\n",
      "38\n",
      "39\n",
      "40\n",
      "41\n",
      "42\n",
      "43\n",
      "44\n",
      "45\n",
      "46\n",
      "47\n",
      "48\n",
      "49\n",
      "50\n",
      "51\n",
      "52\n"
     ]
    }
   ],
   "source": [
    "\n",
    "\n",
    "import requests\n",
    "import json\n",
    "\n",
    "\n",
    "\"\"\"\n",
    "uberon, hp, go, doid, cl\n",
    "\n",
    "# to prettify\n",
    "python -m json.tool uberon.txt uberon.json\n",
    "\n",
    "\"\"\"\n",
    "\n",
    "ontology = \"hp\"\n",
    "ids = hps\n",
    "\n",
    "\n",
    "\n",
    "file = open(f\"{root}/{ontology}.txt\", \"w\", encoding=\"utf-8\")\n",
    "file.write(\"{\\\"terms\\\":[\")\n",
    "\n",
    "first = True\n",
    "stop = False\n",
    "page = 1\n",
    "while not stop:\n",
    "    response = requests.get(f\"http://www.ebi.ac.uk/ols/api/ontologies/{ontology}/terms?page={page}&size=500\")\n",
    "    if response.text.startswith(\"{\\n  \\\"_links\\\"\"):\n",
    "        stop = True\n",
    "        break\n",
    "    \n",
    "    response_json = response.json()\n",
    "\n",
    "    for x in response_json[\"_embedded\"][\"terms\"]:\n",
    "        if x[\"obo_id\"] in ids:\n",
    "            if not first:\n",
    "                file.write(\",\")\n",
    "            else:\n",
    "                first = False\n",
    "            json.dump(x,file)\n",
    "    \n",
    "    page = page + 1\n",
    "    # backstop\n",
    "    if page == 200:\n",
    "        stop = True\n",
    "\n",
    "file.write(\"]}\")\n",
    "file.close()\n",
    "        \n",
    "    "
   ]
  },
  {
   "cell_type": "markdown",
   "metadata": {},
   "source": [
    "## KEGG"
   ]
  },
  {
   "cell_type": "code",
   "execution_count": 50,
   "metadata": {},
   "outputs": [],
   "source": [
    "\"\"\"\n",
    "KEGG\n",
    "KEGG:hsa00232 \n",
    "\n",
    "\"\"\"\n",
    "ontology = \"kegg\"\n",
    "response = requests.get(f\"http://rest.kegg.jp/list/pathway/hsa\")\n",
    "with open(f\"{root}/{ontology}.txt\", \"w\", encoding=\"utf-8\") as file:\n",
    "    for x in response.text.split(\"\\n\"):\n",
    "        if x != \"\":\n",
    "            code, label = x.split(\"\\t\")\n",
    "            code = code.replace(\"path:\", \"KEGG:\")\n",
    "            label = label.split(\" - \")[0]\n",
    "            if code in keggs:\n",
    "                file.write(code + \"\\t\" + label + \"\\n\")"
   ]
  },
  {
   "cell_type": "markdown",
   "metadata": {},
   "source": [
    "## REACTOME"
   ]
  },
  {
   "cell_type": "code",
   "execution_count": 52,
   "metadata": {},
   "outputs": [],
   "source": [
    "\"\"\"\n",
    "REACTOME\n",
    "https://reactome.org/download/current/ReactomePathways.txt\n",
    "\n",
    "\"\"\"\n",
    "ontology = \"reactome\"\n",
    "response = requests.get(f\"https://reactome.org/download/current/ReactomePathways.txt\")\n",
    "with open(f\"{root}/{ontology}.txt\", \"w\", encoding=\"utf-8\") as file:\n",
    "    for x in response.text.split(\"\\n\"):\n",
    "        if x != \"\":\n",
    "            code, label, _ = x.split(\"\\t\")\n",
    "            code = \"REACTOME:\" + code\n",
    "            label = label.split(\" - \")[0]\n",
    "            if code in reactomes:\n",
    "                file.write(code + \"\\t\" + label + \"\\n\")\n"
   ]
  },
  {
   "cell_type": "markdown",
   "metadata": {},
   "source": [
    "## Old Pubchem.Compound, very slow"
   ]
  },
  {
   "cell_type": "code",
   "execution_count": 55,
   "metadata": {},
   "outputs": [
    {
     "name": "stderr",
     "output_type": "stream",
     "text": [
      "  9%|▉         | 35/388 [14:20<2:24:38, 24.59s/it]\n"
     ]
    },
    {
     "ename": "KeyError",
     "evalue": "'InformationList'",
     "output_type": "error",
     "traceback": [
      "\u001b[1;31m---------------------------------------------------------------------------\u001b[0m",
      "\u001b[1;31mKeyError\u001b[0m                                  Traceback (most recent call last)",
      "\u001b[1;32m<ipython-input-55-c72eea58de6e>\u001b[0m in \u001b[0;36m<module>\u001b[1;34m()\u001b[0m\n\u001b[0;32m     13\u001b[0m     \u001b[0mresponse\u001b[0m \u001b[1;33m=\u001b[0m \u001b[0mrequests\u001b[0m\u001b[1;33m.\u001b[0m\u001b[0mget\u001b[0m\u001b[1;33m(\u001b[0m\u001b[1;34mf\"https://pubchem.ncbi.nlm.nih.gov/rest/pug/compound/cid/{ids_str}/description/JSON\"\u001b[0m\u001b[1;33m)\u001b[0m\u001b[1;33m\u001b[0m\u001b[0m\n\u001b[0;32m     14\u001b[0m     \u001b[0mresponse_json\u001b[0m \u001b[1;33m=\u001b[0m \u001b[0mresponse\u001b[0m\u001b[1;33m.\u001b[0m\u001b[0mjson\u001b[0m\u001b[1;33m(\u001b[0m\u001b[1;33m)\u001b[0m\u001b[1;33m\u001b[0m\u001b[0m\n\u001b[1;32m---> 15\u001b[1;33m     \u001b[1;32mfor\u001b[0m \u001b[0mx\u001b[0m \u001b[1;32min\u001b[0m \u001b[0mresponse_json\u001b[0m\u001b[1;33m[\u001b[0m\u001b[1;34m\"InformationList\"\u001b[0m\u001b[1;33m]\u001b[0m\u001b[1;33m[\u001b[0m\u001b[1;34m\"Information\"\u001b[0m\u001b[1;33m]\u001b[0m\u001b[1;33m:\u001b[0m\u001b[1;33m\u001b[0m\u001b[0m\n\u001b[0m\u001b[0;32m     16\u001b[0m         \u001b[1;32mif\u001b[0m \u001b[1;34m\"Description\"\u001b[0m \u001b[1;32min\u001b[0m \u001b[0mx\u001b[0m\u001b[1;33m:\u001b[0m\u001b[1;33m\u001b[0m\u001b[0m\n\u001b[0;32m     17\u001b[0m             \u001b[0mresult\u001b[0m\u001b[1;33m[\u001b[0m\u001b[1;34m\"descriptions\"\u001b[0m\u001b[1;33m]\u001b[0m\u001b[1;33m.\u001b[0m\u001b[0mappend\u001b[0m\u001b[1;33m(\u001b[0m\u001b[0mx\u001b[0m\u001b[1;33m)\u001b[0m\u001b[1;33m\u001b[0m\u001b[0m\n",
      "\u001b[1;31mKeyError\u001b[0m: 'InformationList'"
     ]
    }
   ],
   "source": [
    "\"\"\"\n",
    "PUBCHEM.COMPOUND\n",
    "https://pubchem.ncbi.nlm.nih.gov/rest/pug/compound/cid/1983,1984/description/JSON\n",
    "https://pubchem.ncbi.nlm.nih.gov/rest/pug/compound/cid/1983,1984/synonyms/JSON\n",
    "\"\"\"\n",
    "\n",
    "result = {\n",
    "    \"descriptions\": []\n",
    "}\n",
    "\n",
    "for x in tqdm(divide_chunks(pubchemcompounds, 200), total=int(len(pubchemcompounds)/200)):\n",
    "    ids_str = \",\".join(x)\n",
    "    response = requests.get(f\"https://pubchem.ncbi.nlm.nih.gov/rest/pug/compound/cid/{ids_str}/description/JSON\")\n",
    "    response_json = response.json()\n",
    "    for x in response_json[\"InformationList\"][\"Information\"]:\n",
    "        if \"Description\" in x:\n",
    "            result[\"descriptions\"].append(x)\n",
    "with open(f\"{labels_path}/pccompound_descriptions.txt\", \"w\") as outfile:\n",
    "    json.dump(result, outfile, indent=4, sort_keys=True)\n"
   ]
  },
  {
   "cell_type": "markdown",
   "metadata": {},
   "source": [
    "# RDF graph"
   ]
  },
  {
   "cell_type": "code",
   "execution_count": 18,
   "metadata": {},
   "outputs": [],
   "source": [
    "def load_text_file(path):\n",
    "    content = None\n",
    "    with open(path) as f:\n",
    "        content = f.readlines()\n",
    "    content = [x.strip() for x in content]\n",
    "    return content\n",
    "\n",
    "def load_json_file(path):\n",
    "    with open(path) as json_file:\n",
    "        return json.load(json_file)"
   ]
  },
  {
   "cell_type": "code",
   "execution_count": 26,
   "metadata": {},
   "outputs": [],
   "source": [
    "identifiers = Namespace(\"http://identifiers.org/\")\n",
    "obl = Namespace(\"http://ai-strategies.org/openbiolink/\")\n",
    "OBO = Namespace(\"http://www.geneontology.org/formats/oboInOwl#\")\n",
    "\n",
    "g = rdflib.Graph()\n",
    "\n",
    "g.bind(\"obl\", obl)\n",
    "g.bind(\"id\", identifiers)\n",
    "g.bind(\"rdfs\", RDFS)\n",
    "g.bind(\"oboInOwl\", OBO)"
   ]
  },
  {
   "cell_type": "markdown",
   "metadata": {},
   "source": [
    "### Insert triples of graph"
   ]
  },
  {
   "cell_type": "code",
   "execution_count": 72,
   "metadata": {},
   "outputs": [
    {
     "data": {
      "application/vnd.jupyter.widget-view+json": {
       "model_id": "7f34f0cedfa0434a9c0195a8fa763338",
       "version_major": 2,
       "version_minor": 0
      },
      "text/html": [
       "<p>Failed to display Jupyter Widget of type <code>TqdmHBox</code>.</p>\n",
       "<p>\n",
       "  If you're reading this message in the Jupyter Notebook or JupyterLab Notebook, it may mean\n",
       "  that the widgets JavaScript is still loading. If this message persists, it\n",
       "  likely means that the widgets JavaScript library is either not installed or\n",
       "  not enabled. See the <a href=\"https://ipywidgets.readthedocs.io/en/stable/user_install.html\">Jupyter\n",
       "  Widgets Documentation</a> for setup instructions.\n",
       "</p>\n",
       "<p>\n",
       "  If you're reading this message in another frontend (for example, a static\n",
       "  rendering on GitHub or <a href=\"https://nbviewer.jupyter.org/\">NBViewer</a>),\n",
       "  it may mean that your frontend doesn't currently support widgets.\n",
       "</p>\n"
      ],
      "text/plain": [
       "  0%|          | 0/4778683 [00:00<?, ?it/s]"
      ]
     },
     "metadata": {},
     "output_type": "display_data"
    }
   ],
   "source": [
    "tp_file = load_text_file(tp_path)\n",
    "for line in tqdm(tp_file):\n",
    "    head,rel,tail,_,_ = line.split(\"\\t\")\n",
    "    g.add((\n",
    "        identifiers.term(head),\n",
    "        obl.term(rel),\n",
    "        identifiers.term(tail)\n",
    "    ))"
   ]
  },
  {
   "cell_type": "markdown",
   "metadata": {},
   "source": [
    "## NCBIGENE"
   ]
  },
  {
   "cell_type": "code",
   "execution_count": 27,
   "metadata": {},
   "outputs": [
    {
     "data": {
      "application/vnd.jupyter.widget-view+json": {
       "model_id": "28dadb14ca6343aaa59d744ce4fe2380",
       "version_major": 2,
       "version_minor": 0
      },
      "text/html": [
       "<p>Failed to display Jupyter Widget of type <code>TqdmHBox</code>.</p>\n",
       "<p>\n",
       "  If you're reading this message in the Jupyter Notebook or JupyterLab Notebook, it may mean\n",
       "  that the widgets JavaScript is still loading. If this message persists, it\n",
       "  likely means that the widgets JavaScript library is either not installed or\n",
       "  not enabled. See the <a href=\"https://ipywidgets.readthedocs.io/en/stable/user_install.html\">Jupyter\n",
       "  Widgets Documentation</a> for setup instructions.\n",
       "</p>\n",
       "<p>\n",
       "  If you're reading this message in another frontend (for example, a static\n",
       "  rendering on GitHub or <a href=\"https://nbviewer.jupyter.org/\">NBViewer</a>),\n",
       "  it may mean that your frontend doesn't currently support widgets.\n",
       "</p>\n"
      ],
      "text/plain": [
       "  0%|          | 0/19604 [00:00<?, ?it/s]"
      ]
     },
     "metadata": {},
     "output_type": "display_data"
    }
   ],
   "source": [
    "ncbigene_path = labels_path + \"\\\\gene.json\"\n",
    "ncbigene = load_json_file(ncbigene_path)\n",
    "for x in tqdm(ncbigene):\n",
    "    nodeinfo = ncbigene[x]\n",
    "    \n",
    "    # label\n",
    "    assert (nodeinfo[\"description\"] != \"\" and type(nodeinfo[\"description\"]) == str), \"Error label not str or empty\"\n",
    "    g.add((\n",
    "        identifiers.term(\"NCBIGENE:\" + x),\n",
    "        RDFS.label,\n",
    "        rdflib.Literal(nodeinfo[\"description\"], datatype=XSD.string)\n",
    "    ))\n",
    "    \n",
    "    # synonyms\n",
    "    synonyms = set()\n",
    "    synonyms.add(nodeinfo[\"name\"])\n",
    "    synonyms.add(nodeinfo[\"nomenclaturesymbol\"])\n",
    "    synonyms.add(nodeinfo[\"nomenclaturename\"])\n",
    "    if len(nodeinfo[\"otheraliases\"]) > 0:\n",
    "        for y in ncbigene[x][\"otheraliases\"].split(\", \"):\n",
    "            synonyms.add(y)\n",
    "    if len(nodeinfo[\"otherdesignations\"]) > 0:\n",
    "        for y in nodeinfo[\"otherdesignations\"].split(\"|\"):\n",
    "            synonyms.add(y)\n",
    "    for synonym in synonyms:\n",
    "        g.add((\n",
    "            identifiers.term(\"NCBIGENE:\" + x),\n",
    "            OBO.hasExactSynonym,\n",
    "            rdflib.Literal(synonym, datatype=XSD.string)\n",
    "\n",
    "        ))\n",
    "        \n",
    "    # description\n",
    "    g.add((\n",
    "        identifiers.term(\"NCBIGENE:\" + x),\n",
    "        RDFS.comment,\n",
    "        rdflib.Literal(nodeinfo[\"summary\"], datatype=XSD.string)\n",
    "    ))"
   ]
  },
  {
   "cell_type": "markdown",
   "metadata": {},
   "source": [
    "## PCCOMPOUND"
   ]
  },
  {
   "cell_type": "code",
   "execution_count": 28,
   "metadata": {},
   "outputs": [
    {
     "data": {
      "application/vnd.jupyter.widget-view+json": {
       "model_id": "46742c029eb2404999da56d95cb263d5",
       "version_major": 2,
       "version_minor": 0
      },
      "text/html": [
       "<p>Failed to display Jupyter Widget of type <code>TqdmHBox</code>.</p>\n",
       "<p>\n",
       "  If you're reading this message in the Jupyter Notebook or JupyterLab Notebook, it may mean\n",
       "  that the widgets JavaScript is still loading. If this message persists, it\n",
       "  likely means that the widgets JavaScript library is either not installed or\n",
       "  not enabled. See the <a href=\"https://ipywidgets.readthedocs.io/en/stable/user_install.html\">Jupyter\n",
       "  Widgets Documentation</a> for setup instructions.\n",
       "</p>\n",
       "<p>\n",
       "  If you're reading this message in another frontend (for example, a static\n",
       "  rendering on GitHub or <a href=\"https://nbviewer.jupyter.org/\">NBViewer</a>),\n",
       "  it may mean that your frontend doesn't currently support widgets.\n",
       "</p>\n"
      ],
      "text/plain": [
       "  0%|          | 0/77727 [00:00<?, ?it/s]"
      ]
     },
     "metadata": {},
     "output_type": "display_data"
    }
   ],
   "source": [
    "ncbigene_path = labels_path + \"\\\\pccompound.json\"\n",
    "ncbigene = load_json_file(ncbigene_path)\n",
    "for x in tqdm(ncbigene):\n",
    "    nodeinfo = ncbigene[x]\n",
    "    \n",
    "    if \"error\" not in nodeinfo:\n",
    "        \n",
    "        #label\n",
    "        assert ((len(nodeinfo[\"meshheadinglist\"]) >= 1\n",
    "                and len(nodeinfo[\"meshheadinglist\"][0]) >= 0\n",
    "                and type(nodeinfo[\"meshheadinglist\"][0]) == str)\n",
    "                or (len(nodeinfo[\"iupacname\"]) >= 0\n",
    "                and type(nodeinfo[\"iupacname\"]) == str)\n",
    "                ), \"Error label not str or empty\"\n",
    "        if(len(nodeinfo[\"meshheadinglist\"]) >= 1):\n",
    "            g.add((\n",
    "                identifiers.term(\"PUBCHEM.COMPOUND:\" + x),\n",
    "                RDFS.label,\n",
    "                rdflib.Literal(nodeinfo[\"meshheadinglist\"][0], datatype=XSD.string)\n",
    "            ))\n",
    "        else:\n",
    "            g.add((\n",
    "                identifiers.term(\"PUBCHEM.COMPOUND:\" + x),\n",
    "                RDFS.label,\n",
    "                rdflib.Literal(nodeinfo[\"iupacname\"], datatype=XSD.string)\n",
    "            ))\n",
    "        \n",
    "        \n",
    "        #synonyms\n",
    "        synonyms = set()\n",
    "        synonyms.add(nodeinfo[\"iupacname\"])\n",
    "        synonyms.add(nodeinfo[\"canonicalsmiles\"])\n",
    "        synonyms.add(nodeinfo[\"molecularformula\"])\n",
    "        for y in nodeinfo[\"synonymlist\"]:\n",
    "            if y != \"\":\n",
    "                synonyms.add(y)\n",
    "        for y in nodeinfo[\"meshtermlist\"]:\n",
    "            if y != \"\":\n",
    "                synonyms.add(y)\n",
    "        if len(nodeinfo[\"meshheadinglist\"]) > 1:\n",
    "            for y in range(1, len(nodeinfo[\"meshheadinglist\"])):\n",
    "                if y != \"\":\n",
    "                    synonyms.add(y)\n",
    "\n",
    "        for synonym in synonyms:\n",
    "            g.add((\n",
    "                identifiers.term(\"PUBCHEM.COMPOUND:\" + x),\n",
    "                OBO.hasExactSynonym,\n",
    "                rdflib.Literal(synonym, datatype=XSD.string)\n",
    "        ))"
   ]
  },
  {
   "cell_type": "markdown",
   "metadata": {},
   "source": [
    "## uberon, hp, go, doid, cl"
   ]
  },
  {
   "cell_type": "code",
   "execution_count": 29,
   "metadata": {},
   "outputs": [
    {
     "data": {
      "application/vnd.jupyter.widget-view+json": {
       "model_id": "735a458e2fbe419e9b065fa7ad112868",
       "version_major": 2,
       "version_minor": 0
      },
      "text/html": [
       "<p>Failed to display Jupyter Widget of type <code>TqdmHBox</code>.</p>\n",
       "<p>\n",
       "  If you're reading this message in the Jupyter Notebook or JupyterLab Notebook, it may mean\n",
       "  that the widgets JavaScript is still loading. If this message persists, it\n",
       "  likely means that the widgets JavaScript library is either not installed or\n",
       "  not enabled. See the <a href=\"https://ipywidgets.readthedocs.io/en/stable/user_install.html\">Jupyter\n",
       "  Widgets Documentation</a> for setup instructions.\n",
       "</p>\n",
       "<p>\n",
       "  If you're reading this message in another frontend (for example, a static\n",
       "  rendering on GitHub or <a href=\"https://nbviewer.jupyter.org/\">NBViewer</a>),\n",
       "  it may mean that your frontend doesn't currently support widgets.\n",
       "</p>\n"
      ],
      "text/plain": [
       "  0%|          | 0/2103 [00:00<?, ?it/s]"
      ]
     },
     "metadata": {},
     "output_type": "display_data"
    },
    {
     "data": {
      "application/vnd.jupyter.widget-view+json": {
       "model_id": "4001e67d532e41a3bdea5ac1a2bc45fd",
       "version_major": 2,
       "version_minor": 0
      },
      "text/html": [
       "<p>Failed to display Jupyter Widget of type <code>TqdmHBox</code>.</p>\n",
       "<p>\n",
       "  If you're reading this message in the Jupyter Notebook or JupyterLab Notebook, it may mean\n",
       "  that the widgets JavaScript is still loading. If this message persists, it\n",
       "  likely means that the widgets JavaScript library is either not installed or\n",
       "  not enabled. See the <a href=\"https://ipywidgets.readthedocs.io/en/stable/user_install.html\">Jupyter\n",
       "  Widgets Documentation</a> for setup instructions.\n",
       "</p>\n",
       "<p>\n",
       "  If you're reading this message in another frontend (for example, a static\n",
       "  rendering on GitHub or <a href=\"https://nbviewer.jupyter.org/\">NBViewer</a>),\n",
       "  it may mean that your frontend doesn't currently support widgets.\n",
       "</p>\n"
      ],
      "text/plain": [
       "  0%|          | 0/9270 [00:00<?, ?it/s]"
      ]
     },
     "metadata": {},
     "output_type": "display_data"
    },
    {
     "data": {
      "application/vnd.jupyter.widget-view+json": {
       "model_id": "3c02fe7303a34fd48f9ffc583b27a886",
       "version_major": 2,
       "version_minor": 0
      },
      "text/html": [
       "<p>Failed to display Jupyter Widget of type <code>TqdmHBox</code>.</p>\n",
       "<p>\n",
       "  If you're reading this message in the Jupyter Notebook or JupyterLab Notebook, it may mean\n",
       "  that the widgets JavaScript is still loading. If this message persists, it\n",
       "  likely means that the widgets JavaScript library is either not installed or\n",
       "  not enabled. See the <a href=\"https://ipywidgets.readthedocs.io/en/stable/user_install.html\">Jupyter\n",
       "  Widgets Documentation</a> for setup instructions.\n",
       "</p>\n",
       "<p>\n",
       "  If you're reading this message in another frontend (for example, a static\n",
       "  rendering on GitHub or <a href=\"https://nbviewer.jupyter.org/\">NBViewer</a>),\n",
       "  it may mean that your frontend doesn't currently support widgets.\n",
       "</p>\n"
      ],
      "text/plain": [
       "  0%|          | 0/44476 [00:00<?, ?it/s]"
      ]
     },
     "metadata": {},
     "output_type": "display_data"
    },
    {
     "data": {
      "application/vnd.jupyter.widget-view+json": {
       "model_id": "13b24f1fc5e44666bbf06dd9e0bc806d",
       "version_major": 2,
       "version_minor": 0
      },
      "text/html": [
       "<p>Failed to display Jupyter Widget of type <code>TqdmHBox</code>.</p>\n",
       "<p>\n",
       "  If you're reading this message in the Jupyter Notebook or JupyterLab Notebook, it may mean\n",
       "  that the widgets JavaScript is still loading. If this message persists, it\n",
       "  likely means that the widgets JavaScript library is either not installed or\n",
       "  not enabled. See the <a href=\"https://ipywidgets.readthedocs.io/en/stable/user_install.html\">Jupyter\n",
       "  Widgets Documentation</a> for setup instructions.\n",
       "</p>\n",
       "<p>\n",
       "  If you're reading this message in another frontend (for example, a static\n",
       "  rendering on GitHub or <a href=\"https://nbviewer.jupyter.org/\">NBViewer</a>),\n",
       "  it may mean that your frontend doesn't currently support widgets.\n",
       "</p>\n"
      ],
      "text/plain": [
       "  0%|          | 0/14293 [00:00<?, ?it/s]"
      ]
     },
     "metadata": {},
     "output_type": "display_data"
    },
    {
     "data": {
      "application/vnd.jupyter.widget-view+json": {
       "model_id": "18e1386806c541708e9a3b262245ffbc",
       "version_major": 2,
       "version_minor": 0
      },
      "text/html": [
       "<p>Failed to display Jupyter Widget of type <code>TqdmHBox</code>.</p>\n",
       "<p>\n",
       "  If you're reading this message in the Jupyter Notebook or JupyterLab Notebook, it may mean\n",
       "  that the widgets JavaScript is still loading. If this message persists, it\n",
       "  likely means that the widgets JavaScript library is either not installed or\n",
       "  not enabled. See the <a href=\"https://ipywidgets.readthedocs.io/en/stable/user_install.html\">Jupyter\n",
       "  Widgets Documentation</a> for setup instructions.\n",
       "</p>\n",
       "<p>\n",
       "  If you're reading this message in another frontend (for example, a static\n",
       "  rendering on GitHub or <a href=\"https://nbviewer.jupyter.org/\">NBViewer</a>),\n",
       "  it may mean that your frontend doesn't currently support widgets.\n",
       "</p>\n"
      ],
      "text/plain": [
       "  0%|          | 0/13348 [00:00<?, ?it/s]"
      ]
     },
     "metadata": {},
     "output_type": "display_data"
    }
   ],
   "source": [
    "\n",
    "\n",
    "def add_ebi_onto(json_path):\n",
    "    json_data = load_json_file(json_path)\n",
    "    for x in tqdm(json_data[\"terms\"]):\n",
    "        \n",
    "        # label\n",
    "        assert (len(x[\"label\"]) >= 0 and type(x[\"label\"]) == str), \"Error label not str or empty\"\n",
    "        g.add((\n",
    "            identifiers.term(x[\"obo_id\"]),\n",
    "            RDFS.label,\n",
    "            rdflib.Literal(x[\"label\"], datatype=XSD.string)\n",
    "        ))\n",
    "        \n",
    "        #synonyms\n",
    "        if x[\"synonyms\"] is not None:\n",
    "            synonyms = set(x[\"synonyms\"])\n",
    "            for synonym in synonyms:\n",
    "                g.add((\n",
    "                    identifiers.term(x[\"obo_id\"]),\n",
    "                    OBO.hasExactSynonym,\n",
    "                    rdflib.Literal(synonym, datatype=XSD.string)\n",
    "            ))\n",
    "\n",
    "        # description\n",
    "        if x[\"description\"] is not None:\n",
    "            g.add((\n",
    "                identifiers.term(x[\"obo_id\"]),\n",
    "                RDFS.comment,\n",
    "                rdflib.Literal(x[\"description\"][0], datatype=XSD.string)\n",
    "            ))\n",
    "\n",
    "add_ebi_onto(labels_path + \"\\\\cl.json\")\n",
    "add_ebi_onto(labels_path + \"\\\\doid.json\")\n",
    "add_ebi_onto(labels_path + \"\\\\go.json\")\n",
    "add_ebi_onto(labels_path + \"\\\\hp.json\")\n",
    "add_ebi_onto(labels_path + \"\\\\uberon.json\")\n",
    "    "
   ]
  },
  {
   "cell_type": "markdown",
   "metadata": {},
   "source": [
    "## reactome"
   ]
  },
  {
   "cell_type": "code",
   "execution_count": 30,
   "metadata": {},
   "outputs": [],
   "source": [
    "path = labels_path + \"\\\\reactome.txt\"\n",
    "content = load_text_file(path)\n",
    "\n",
    "for line in content:\n",
    "    code, label = line.split(\"\\t\")\n",
    "    g.add((\n",
    "        identifiers.term(code),\n",
    "        RDFS.label,\n",
    "        rdflib.Literal(label, datatype=XSD.string)\n",
    "    ))\n",
    "    \n"
   ]
  },
  {
   "cell_type": "markdown",
   "metadata": {},
   "source": [
    "## kegg"
   ]
  },
  {
   "cell_type": "code",
   "execution_count": 31,
   "metadata": {},
   "outputs": [],
   "source": [
    "path = labels_path + \"\\\\kegg.txt\"\n",
    "content = load_text_file(path)\n",
    "\n",
    "for line in content:\n",
    "    code, label = line.split(\"\\t\")\n",
    "    g.add((\n",
    "        identifiers.term(code),\n",
    "        RDFS.label,\n",
    "        rdflib.Literal(label, datatype=XSD.string)\n",
    "    ))"
   ]
  },
  {
   "cell_type": "markdown",
   "metadata": {},
   "source": [
    "## Serialize graph"
   ]
  },
  {
   "cell_type": "code",
   "execution_count": 32,
   "metadata": {},
   "outputs": [],
   "source": [
    "g.serialize(graph_path + \"\\\\obl.xml\",format=\"xml\")"
   ]
  },
  {
   "cell_type": "code",
   "execution_count": null,
   "metadata": {},
   "outputs": [],
   "source": []
  }
 ],
 "metadata": {
  "kernelspec": {
   "display_name": "Python 3",
   "language": "python",
   "name": "python3"
  },
  "language_info": {
   "codemirror_mode": {
    "name": "ipython",
    "version": 3
   },
   "file_extension": ".py",
   "mimetype": "text/x-python",
   "name": "python",
   "nbconvert_exporter": "python",
   "pygments_lexer": "ipython3",
   "version": "3.6.4"
  }
 },
 "nbformat": 4,
 "nbformat_minor": 2
}
