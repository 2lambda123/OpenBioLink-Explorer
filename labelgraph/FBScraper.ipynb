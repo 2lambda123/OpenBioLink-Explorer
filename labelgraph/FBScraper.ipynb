{
 "cells": [
  {
   "cell_type": "code",
   "execution_count": 6,
   "metadata": {},
   "outputs": [],
   "source": [
    "from __future__ import print_function\n",
    "import json\n",
    "import uuid\n",
    "import itertools\n",
    "import urllib\n",
    "from tqdm import tqdm\n",
    "\n",
    "import rdflib\n",
    "from rdflib import Namespace\n",
    "from rdflib.namespace import DC, DCTERMS, DOAP, FOAF, SKOS, OWL, RDF, RDFS, VOID, XMLNS, XSD"
   ]
  },
  {
   "cell_type": "code",
   "execution_count": 2,
   "metadata": {},
   "outputs": [],
   "source": [
    "# https://developers.google.com/knowledge-graph/\n",
    "\n",
    "root = r\"C:\\Users\\Simon\\Desktop\\SAFRANExplorer\\labelgraph\\Labels\"\n",
    "train_path = r\"C:\\Users\\Simon\\Desktop\\SAFRANExplorer\\workspace\\data\\FB15-237\\train.txt\"\n",
    "test_path = r\"C:\\Users\\Simon\\Desktop\\SAFRANExplorer\\workspace\\data\\FB15-237\\test.txt\"\n",
    "valid_path = r\"C:\\Users\\Simon\\Desktop\\SAFRANExplorer\\workspace\\data\\FB15-237\\valid.txt\""
   ]
  },
  {
   "cell_type": "code",
   "execution_count": 3,
   "metadata": {},
   "outputs": [],
   "source": [
    "def add_node(node):\n",
    "    nodes.add(node)\n",
    "\n",
    "def read_nodes(path):\n",
    "    content = None\n",
    "    with open(path) as f:\n",
    "        content = f.readlines()\n",
    "    content = [x.strip() for x in content]\n",
    "\n",
    "    for line in content:\n",
    "        head,rel,tail = line.split(\"\\t\")\n",
    "        add_node(head)\n",
    "        add_node(tail)\n",
    "        \n",
    "def divide_chunks(l, n):\n",
    "    for i in range(0, len(l), n): \n",
    "        yield l[i:i + n]\n",
    "        \n",
    "def load_json_file(path):\n",
    "    with open(path) as json_file:\n",
    "        return json.load(json_file)\n",
    "        "
   ]
  },
  {
   "source": [
    "## Download files\n"
   ],
   "cell_type": "markdown",
   "metadata": {}
  },
  {
   "cell_type": "code",
   "execution_count": 46,
   "metadata": {},
   "outputs": [],
   "source": [
    "nodes = set()\n",
    "read_nodes(train_path)\n",
    "read_nodes(test_path)\n",
    "read_nodes(valid_path)\n",
    "nodes = list(nodes)"
   ]
  },
  {
   "cell_type": "code",
   "execution_count": 41,
   "metadata": {},
   "outputs": [],
   "source": [
    "\n",
    "# api_key = open('.api_key').read()\n",
    "api_key = \"\"\n",
    "\n",
    "ids = [\"/m/08966\", \"/m/05lf_\"]\n",
    "query = 'Taylor Swift'\n",
    "service_url = 'https://kgsearch.googleapis.com/v1/entities:search'\n",
    "\n",
    "limit = 500\n",
    "\n",
    "result = {\n",
    "    'result': []\n",
    "}\n",
    "\n",
    "for node_list in divide_chunks(nodes, limit):\n",
    "    params = [\n",
    "        ('limit', limit),\n",
    "        ('indent', True),\n",
    "        ('key', api_key),\n",
    "    ]\n",
    "    params.extend(zip(itertools.repeat('ids'), node_list))\n",
    "    \n",
    "    url = service_url + '?' + urllib.parse.urlencode(params)\n",
    "    response = json.loads(urllib.request.urlopen(url).read())\n",
    "    \n",
    "    result['result'].extend(response['itemListElement'])\n",
    "        \n",
    "with open(root + \"//fb.json\", 'w') as outfile:\n",
    "    json.dump(result, outfile, indent=4, sort_keys=True)"
   ]
  },
  {
   "source": [
    "## Create graph"
   ],
   "cell_type": "markdown",
   "metadata": {}
  },
  {
   "cell_type": "code",
   "execution_count": 7,
   "metadata": {},
   "outputs": [],
   "source": [
    "kg = Namespace(\"http://g.co/kg\")\n",
    "\n",
    "g = rdflib.Graph()\n",
    "\n",
    "g.bind(\"kg\", kg)\n",
    "g.bind(\"rdf\", RDF)\n",
    "g.bind(\"rdfs\", RDFS)"
   ]
  },
  {
   "cell_type": "code",
   "execution_count": 10,
   "metadata": {},
   "outputs": [
    {
     "output_type": "stream",
     "name": "stderr",
     "text": [
      "100%|██████████| 13954/13954 [00:03<00:00, 4129.43it/s]\n"
     ]
    }
   ],
   "source": [
    "\n",
    "json_path = root + \"//fb.json\"\n",
    "jsonfile = load_json_file(json_path)\n",
    "for x in tqdm(jsonfile[\"result\"]):\n",
    "    term = x[\"result\"][\"@id\"].replace(\"kg:\",\"\")\n",
    "    g.add((\n",
    "        kg.term(term),\n",
    "        RDFS.label,\n",
    "        rdflib.Literal(x[\"result\"][\"name\"], datatype=XSD.string)\n",
    "\n",
    "    ))\n",
    "    if \"@type\" in x[\"result\"]:\n",
    "        for type_ in x[\"result\"][\"@type\"]:\n",
    "            g.add((\n",
    "                kg.term(term),\n",
    "                RDF.type,\n",
    "                rdflib.Literal(type_, datatype=XSD.string)\n",
    "            ))\n",
    "    if \"detailedDescription\" in x[\"result\"]:\n",
    "        g.add((\n",
    "            kg.term(term),\n",
    "            RDFS.comment,\n",
    "            rdflib.Literal(x[\"result\"][\"detailedDescription\"][\"articleBody\"], datatype=XSD.string)\n",
    "        ))\n",
    "    elif \"description\" in x[\"result\"]:\n",
    "        g.add((\n",
    "            kg.term(term),\n",
    "            RDFS.comment,\n",
    "            rdflib.Literal(x[\"result\"][\"description\"], datatype=XSD.string)\n",
    "        ))\n",
    "    \n",
    "g.serialize(r\"C:\\Users\\Simon\\Desktop\\SAFRANExplorer\\labelgraph\\Graphs\\fb15k237_with_labels.ttl\",format=\"turtle\")"
   ]
  },
  {
   "cell_type": "code",
   "execution_count": 11,
   "metadata": {},
   "outputs": [],
   "source": [
    "\n",
    "\n",
    "outfile = open(r\"C:\\Users\\Simon\\Desktop\\SAFRANExplorer\\labelgraph\\Graphs\\fb15k237_with_labels.ttl\", 'a')\n",
    "\n",
    "def read_set(path, typ):\n",
    "    content = None\n",
    "    with open(path) as f:\n",
    "        content = f.readlines()\n",
    "    content = [x.strip() for x in content]\n",
    "    for line in content:\n",
    "        head,rel,tail = line.split(\"\\t\")\n",
    "        outfile.write(f\"<<<http://g.co/kg{head}> <http://g.co/kg{rel}> <http://g.co/kg{tail}>>> obl:split obl:{typ} . \" + \"\\n\")\n",
    "\n",
    "read_set(train_path, 'train')\n",
    "read_set(test_path, 'test')\n",
    "read_set(valid_path, 'valid')\n",
    "\n",
    "outfile.close()"
   ]
  },
  {
   "cell_type": "code",
   "execution_count": 18,
   "metadata": {},
   "outputs": [],
   "source": [
    "g = rdflib.Graph()\n",
    "g.parse(r\"C:\\Users\\ottsi\\SAFRANExplorer\\labelgraph\\Graphs\\fb15k237.xml\",format=\"xml\")\n",
    "g.serialize(r\"C:\\Users\\ottsi\\SAFRANExplorer\\labelgraph\\Graphs\\fb15k237.ttl\",format=\"turtle\")"
   ]
  },
  {
   "cell_type": "code",
   "execution_count": 6,
   "metadata": {},
   "outputs": [],
   "source": []
  },
  {
   "cell_type": "code",
   "execution_count": null,
   "metadata": {},
   "outputs": [],
   "source": []
  }
 ],
 "metadata": {
  "kernelspec": {
   "name": "python361jvsc74a57bd0e7c37ba80a6e54a3d63188245ab5de6a3e0d381993bcb1990a7020536fc2299e",
   "display_name": "Python 3.6.1 64-bit"
  },
  "language_info": {
   "codemirror_mode": {
    "name": "ipython",
    "version": 3
   },
   "file_extension": ".py",
   "mimetype": "text/x-python",
   "name": "python",
   "nbconvert_exporter": "python",
   "pygments_lexer": "ipython3",
   "version": "3.6.1"
  },
  "metadata": {
   "interpreter": {
    "hash": "e7c37ba80a6e54a3d63188245ab5de6a3e0d381993bcb1990a7020536fc2299e"
   }
  }
 },
 "nbformat": 4,
 "nbformat_minor": 2
}