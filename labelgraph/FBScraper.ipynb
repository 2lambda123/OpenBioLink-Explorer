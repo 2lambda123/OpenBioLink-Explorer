{
 "cells": [
  {
   "cell_type": "code",
   "execution_count": 39,
   "metadata": {},
   "outputs": [],
   "source": [
    "import json\n",
    "import itertools\n",
    "import urllib\n",
    "from tqdm.notebook import tqdm\n",
    "from __future__ import print_function\n",
    "\n",
    "import rdflib\n",
    "from rdflib import Namespace\n",
    "from rdflib.namespace import DC, DCTERMS, DOAP, FOAF, SKOS, OWL, RDF, RDFS, VOID, XMLNS, XSD"
   ]
  },
  {
   "cell_type": "code",
   "execution_count": 25,
   "metadata": {},
   "outputs": [],
   "source": [
    "# https://developers.google.com/knowledge-graph/\n",
    "\n",
    "root = r\"C:\\Users\\Simon\\Desktop\\SAFRANExplorer\\labelgraph\\Labels\"\n",
    "train_path = r\"C:\\Users\\Simon\\Desktop\\SAFRANExplorer\\workspace\\data\\FB15-237\\train.txt\"\n",
    "test_path = r\"C:\\Users\\Simon\\Desktop\\SAFRANExplorer\\workspace\\data\\FB15-237\\test.txt\"\n",
    "valid_path = r\"C:\\Users\\Simon\\Desktop\\SAFRANExplorer\\workspace\\data\\FB15-237\\valid.txt\""
   ]
  },
  {
   "cell_type": "code",
   "execution_count": 45,
   "metadata": {},
   "outputs": [],
   "source": [
    "def add_node(node):\n",
    "    nodes.add(node)\n",
    "\n",
    "def read_nodes(path):\n",
    "    content = None\n",
    "    with open(path) as f:\n",
    "        content = f.readlines()\n",
    "    content = [x.strip() for x in content]\n",
    "\n",
    "    for line in content:\n",
    "        head,rel,tail = line.split(\"\\t\")\n",
    "        add_node(head)\n",
    "        add_node(tail)\n",
    "        \n",
    "def divide_chunks(l, n):\n",
    "    for i in range(0, len(l), n): \n",
    "        yield l[i:i + n]\n",
    "        \n",
    "def load_json_file(path):\n",
    "    with open(path) as json_file:\n",
    "        return json.load(json_file)\n",
    "        "
   ]
  },
  {
   "cell_type": "code",
   "execution_count": 46,
   "metadata": {},
   "outputs": [],
   "source": [
    "nodes = set()\n",
    "read_nodes(train_path)\n",
    "read_nodes(test_path)\n",
    "read_nodes(valid_path)\n",
    "nodes = list(nodes)"
   ]
  },
  {
   "cell_type": "code",
   "execution_count": 42,
   "metadata": {},
   "outputs": [
    {
     "name": "stdout",
     "output_type": "stream",
     "text": [
      "14541\n"
     ]
    }
   ],
   "source": [
    "print(len(nodes))\n"
   ]
  },
  {
   "cell_type": "code",
   "execution_count": 41,
   "metadata": {},
   "outputs": [],
   "source": [
    "\n",
    "# api_key = open('.api_key').read()\n",
    "api_key = \"\"\n",
    "\n",
    "ids = [\"/m/08966\", \"/m/05lf_\"]\n",
    "query = 'Taylor Swift'\n",
    "service_url = 'https://kgsearch.googleapis.com/v1/entities:search'\n",
    "\n",
    "limit = 500\n",
    "\n",
    "result = {\n",
    "    'result': []\n",
    "}\n",
    "\n",
    "for node_list in divide_chunks(nodes, limit):\n",
    "    params = [\n",
    "        ('limit', limit),\n",
    "        ('indent', True),\n",
    "        ('key', api_key),\n",
    "    ]\n",
    "    params.extend(zip(itertools.repeat('ids'), node_list))\n",
    "    \n",
    "    url = service_url + '?' + urllib.parse.urlencode(params)\n",
    "    response = json.loads(urllib.request.urlopen(url).read())\n",
    "    \n",
    "    result['result'].extend(response['itemListElement'])\n",
    "        \n",
    "with open(root + \"//fb.json\", 'w') as outfile:\n",
    "    json.dump(result, outfile, indent=4, sort_keys=True)"
   ]
  },
  {
   "cell_type": "code",
   "execution_count": 54,
   "metadata": {},
   "outputs": [],
   "source": [
    "kg = Namespace(\"http://g.co/kg\")\n",
    "\n",
    "g = rdflib.Graph()\n",
    "\n",
    "g.bind(\"kg\", kg)\n",
    "g.bind(\"rdfs\", RDFS)"
   ]
  },
  {
   "cell_type": "code",
   "execution_count": 55,
   "metadata": {},
   "outputs": [
    {
     "data": {
      "application/vnd.jupyter.widget-view+json": {
       "model_id": "7ceabb26f9f54278a9b33495e12aa348",
       "version_major": 2,
       "version_minor": 0
      },
      "text/html": [
       "<p>Failed to display Jupyter Widget of type <code>TqdmHBox</code>.</p>\n",
       "<p>\n",
       "  If you're reading this message in the Jupyter Notebook or JupyterLab Notebook, it may mean\n",
       "  that the widgets JavaScript is still loading. If this message persists, it\n",
       "  likely means that the widgets JavaScript library is either not installed or\n",
       "  not enabled. See the <a href=\"https://ipywidgets.readthedocs.io/en/stable/user_install.html\">Jupyter\n",
       "  Widgets Documentation</a> for setup instructions.\n",
       "</p>\n",
       "<p>\n",
       "  If you're reading this message in another frontend (for example, a static\n",
       "  rendering on GitHub or <a href=\"https://nbviewer.jupyter.org/\">NBViewer</a>),\n",
       "  it may mean that your frontend doesn't currently support widgets.\n",
       "</p>\n"
      ],
      "text/plain": [
       "  0%|          | 0/13954 [00:00<?, ?it/s]"
      ]
     },
     "metadata": {},
     "output_type": "display_data"
    }
   ],
   "source": [
    "\n",
    "json_path = root + \"//fb.json\"\n",
    "jsonfile = load_json_file(json_path)\n",
    "for x in tqdm(jsonfile[\"result\"]):\n",
    "    term = x[\"result\"][\"@id\"].replace(\"kg:\",\"\")\n",
    "    g.add((\n",
    "        kg.term(term),\n",
    "        RDFS.label,\n",
    "        rdflib.Literal(x[\"result\"][\"name\"], datatype=XSD.string)\n",
    "\n",
    "    ))\n",
    "    if \"detailedDescription\" in x[\"result\"]:\n",
    "        g.add((\n",
    "            kg.term(term),\n",
    "            RDFS.comment,\n",
    "            rdflib.Literal(x[\"result\"][\"detailedDescription\"][\"articleBody\"], datatype=XSD.string)\n",
    "        ))\n",
    "    elif \"description\" in x[\"result\"]:\n",
    "        g.add((\n",
    "            kg.term(term),\n",
    "            RDFS.comment,\n",
    "            rdflib.Literal(x[\"result\"][\"description\"], datatype=XSD.string)\n",
    "        ))\n",
    "    \n",
    "g.serialize(r\"C:\\Users\\Simon\\Desktop\\SAFRANExplorer\\labelgraph\\Graphs\\fb15k237.xml\",format=\"xml\")"
   ]
  },
  {
   "cell_type": "code",
   "execution_count": null,
   "metadata": {},
   "outputs": [],
   "source": []
  }
 ],
 "metadata": {
  "kernelspec": {
   "display_name": "Python 3",
   "language": "python",
   "name": "python3"
  },
  "language_info": {
   "codemirror_mode": {
    "name": "ipython",
    "version": 3
   },
   "file_extension": ".py",
   "mimetype": "text/x-python",
   "name": "python",
   "nbconvert_exporter": "python",
   "pygments_lexer": "ipython3",
   "version": "3.6.4"
  }
 },
 "nbformat": 4,
 "nbformat_minor": 2
}
